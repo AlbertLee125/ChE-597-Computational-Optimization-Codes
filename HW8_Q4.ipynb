{
 "cells": [
  {
   "cell_type": "code",
   "execution_count": null,
   "id": "4000dd9c-2eee-450f-89a0-17996994cf63",
   "metadata": {},
   "outputs": [
    {
     "ename": "",
     "evalue": "",
     "output_type": "error",
     "traceback": [
      "\u001b[1;31mFailed to start the Kernel. \n",
      "\u001b[1;31mUnable to start Kernel 'pyomo (Python 3.11.5)' due to a connection timeout. \n",
      "\u001b[1;31mView Jupyter <a href='command:jupyter.viewOutput'>log</a> for further details."
     ]
    }
   ],
   "source": [
    "import numpy as np\n",
    "num_data_points = 20\n",
    "num_dimensions = 10\n",
    "data = np.loadtxt('data_HW8_Q4.csv', delimiter=',')\n",
    "num_clusters = 3\n"
   ]
  },
  {
   "cell_type": "code",
   "execution_count": null,
   "id": "5d4f65ca-1f01-46a1-ab7e-0ab026ebfdc7",
   "metadata": {},
   "outputs": [],
   "source": []
  }
 ],
 "metadata": {
  "kernelspec": {
   "display_name": "Python 3 (ipykernel)",
   "language": "python",
   "name": "python3"
  },
  "language_info": {
   "codemirror_mode": {
    "name": "ipython",
    "version": 3
   },
   "file_extension": ".py",
   "mimetype": "text/x-python",
   "name": "python",
   "nbconvert_exporter": "python",
   "pygments_lexer": "ipython3",
   "version": "3.11.5"
  }
 },
 "nbformat": 4,
 "nbformat_minor": 5
}
