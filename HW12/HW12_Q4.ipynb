{
 "cells": [
  {
   "cell_type": "code",
   "execution_count": 22,
   "metadata": {},
   "outputs": [],
   "source": [
    "import pyomo.environ as pyo"
   ]
  },
  {
   "cell_type": "code",
   "execution_count": 24,
   "metadata": {},
   "outputs": [
    {
     "name": "stdout",
     "output_type": "stream",
     "text": [
      "WARNING: Loading a SolverResults object with a warning status into\n",
      "model.name=\"unknown\";\n",
      "    - termination condition: infeasible\n",
      "    - message from solver: Ipopt 3.14.12\\x3a Converged to a locally infeasible\n",
      "      point. Problem may be infeasible.\n",
      "Optimal tolls and flows with KKT conditions applied:\n",
      "Toll on route ab: 2.3269321948732153e-05, Flow on route ab: 15.0\n",
      "Toll on route cd: -9.997965266116669e-09, Flow on route cd: 4.999999999999999\n"
     ]
    }
   ],
   "source": [
    "\n",
    "def build_toll_model():\n",
    "    model = pyo.ConcreteModel()\n",
    "\n",
    "    # Parameters\n",
    "    model.D = pyo.Param(initialize=20)\n",
    "    model.max_toll = pyo.Param(initialize=5)\n",
    "    model.gamma = pyo.Param(['a', 'b', 'c', 'd'], initialize={'a': 10, 'b': 5, 'c': 8, 'd': 4})\n",
    "    \n",
    "    # Variables for tolls and flows\n",
    "    model.toll_ab = pyo.Var(bounds=(0, model.max_toll))\n",
    "    model.toll_cd = pyo.Var(bounds=(0, model.max_toll))\n",
    "    model.flow_ab = pyo.Var(bounds=(0, 15))  # max flow for route ab\n",
    "    model.flow_cd = pyo.Var(bounds=(0, 20))  # max flow for route cd\n",
    "    \n",
    "    # Objective: Maximize toll revenue\n",
    "    model.revenue = pyo.Objective(expr=model.toll_ab * model.flow_ab + model.toll_cd * model.flow_cd, sense=pyo.maximize)\n",
    "\n",
    "    # Constraint: Demand satisfaction\n",
    "    model.demand = pyo.Constraint(expr=model.flow_ab + model.flow_cd == model.D)\n",
    "    \n",
    "    # KKT conditions based on lower-level optimization\n",
    "    # Here we are assuming lower-level optimizes a cost function of toll and base costs\n",
    "    # Dual variables for route choice conditions\n",
    "    model.lambda_ab = pyo.Var(within=pyo.NonNegativeReals)\n",
    "    model.lambda_cd = pyo.Var(within=pyo.NonNegativeReals)\n",
    "\n",
    "    # Stationarity conditions for each route, integrating the base costs\n",
    "    def stationarity_ab(model):\n",
    "        return model.lambda_ab == model.gamma['a'] + model.gamma['b'] + model.toll_ab\n",
    "    model.stationarity_ab = pyo.Constraint(rule=stationarity_ab)\n",
    "\n",
    "    def stationarity_cd(model):\n",
    "        return model.lambda_cd == model.gamma['c'] + model.gamma['d'] + model.toll_cd\n",
    "    model.stationarity_cd = pyo.Constraint(rule=stationarity_cd)\n",
    "\n",
    "    # Complementarity slackness conditions for flow not exceeding maximum capacity\n",
    "    def comp_slack_ab(model):\n",
    "        return (15 - model.flow_ab) * model.lambda_ab == 0\n",
    "    model.comp_slack_ab = pyo.Constraint(rule=comp_slack_ab)\n",
    "\n",
    "    def comp_slack_cd(model):\n",
    "        return (20 - model.flow_cd) * model.lambda_cd == 0\n",
    "    model.comp_slack_cd = pyo.Constraint(rule=comp_slack_cd)\n",
    "\n",
    "    return model\n",
    "\n",
    "# Create the model\n",
    "model = build_toll_model()\n",
    "\n",
    "# Solve the model using a solver that supports bilevel optimization\n",
    "solver = pyo.SolverFactory('ipopt')\n",
    "solver.solve(model)\n",
    "\n",
    "# Output the results\n",
    "print(\"Optimal tolls and flows with KKT conditions applied:\")\n",
    "print(f\"Toll on route ab: {pyo.value(model.toll_ab)}, Flow on route ab: {pyo.value(model.flow_ab)}\")\n",
    "print(f\"Toll on route cd: {pyo.value(model.toll_cd)}, Flow on route cd: {pyo.value(model.flow_cd)}\")"
   ]
  }
 ],
 "metadata": {
  "kernelspec": {
   "display_name": "pyomo",
   "language": "python",
   "name": "python3"
  },
  "language_info": {
   "codemirror_mode": {
    "name": "ipython",
    "version": 3
   },
   "file_extension": ".py",
   "mimetype": "text/x-python",
   "name": "python",
   "nbconvert_exporter": "python",
   "pygments_lexer": "ipython3",
   "version": "3.11.8"
  }
 },
 "nbformat": 4,
 "nbformat_minor": 2
}
