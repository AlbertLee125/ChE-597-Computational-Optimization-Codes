{
 "cells": [
  {
   "cell_type": "code",
   "execution_count": null,
   "metadata": {},
   "outputs": [
    {
     "ename": "",
     "evalue": "",
     "output_type": "error",
     "traceback": [
      "\u001b[1;31mFailed to start the Kernel. \n",
      "\u001b[1;31mUnable to start Kernel 'pyomo (Python 3.11.5)' due to a connection timeout. \n",
      "\u001b[1;31mView Jupyter <a href='command:jupyter.viewOutput'>log</a> for further details."
     ]
    }
   ],
   "source": [
    "import numpy as np\n",
    "import matplotlib.pyplot as plt\n",
    "\n",
    "# Create a grid of points\n",
    "y1 = np.linspace(0, 1, 400)\n",
    "y2 = np.linspace(0, 1, 400)\n",
    "Y1, Y2 = np.meshgrid(y1, y2)\n",
    "\n",
    "# Define the constraints\n",
    "C1 = Y1 + Y2 <= 1\n",
    "C2 = 1.2*Y1 + 0.5*Y2 <= 1\n",
    "\n",
    "# Define the objective function\n",
    "Z = 1.2*Y1 + Y2\n",
    "\n",
    "# Plot the feasible region\n",
    "plt.figure(figsize=(8, 8))\n",
    "plt.imshow((C1 & C2), extent=(0, 1, 0, 1), origin='lower', cmap='Greys', alpha=0.3)\n",
    "\n",
    "# Plot the contours of the objective function\n",
    "contour = plt.contour(Y1, Y2, Z, levels=50)\n",
    "plt.clabel(contour, inline=1, fontsize=10)\n",
    "\n",
    "plt.title('Contours of the objective function and the feasible region')\n",
    "plt.xlabel('y1')\n",
    "plt.ylabel('y2')\n",
    "plt.colorbar(label='Objective function value')\n",
    "plt.grid(True)\n",
    "plt.show()"
   ]
  },
  {
   "cell_type": "code",
   "execution_count": null,
   "metadata": {},
   "outputs": [],
   "source": []
  }
 ],
 "metadata": {
  "kernelspec": {
   "display_name": "pyomo",
   "language": "python",
   "name": "python3"
  },
  "language_info": {
   "name": "python",
   "version": "3.11.5"
  }
 },
 "nbformat": 4,
 "nbformat_minor": 2
}
