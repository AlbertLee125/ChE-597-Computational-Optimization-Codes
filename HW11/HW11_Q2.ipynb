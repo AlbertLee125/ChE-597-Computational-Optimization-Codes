{
 "cells": [
  {
   "cell_type": "code",
   "execution_count": null,
   "metadata": {},
   "outputs": [
    {
     "ename": "",
     "evalue": "",
     "output_type": "error",
     "traceback": [
      "\u001b[1;31mFailed to start the Kernel. \n",
      "\u001b[1;31mUnable to start Kernel 'pyomo (Python 3.11.8)' due to a connection timeout. \n",
      "\u001b[1;31mView Jupyter <a href='command:jupyter.viewOutput'>log</a> for further details."
     ]
    }
   ],
   "source": [
    "import pyomo.environ as pyo\n",
    "\n",
    "# Define the model\n",
    "model = pyo.ConcreteModel()\n",
    "\n",
    "# Define the parameters\n",
    "widths = [25, 35, 40]  # widths available\n",
    "demands = [7, 5, 3]    # demand for each width\n",
    "roll_width = 100       # total width of each roll\n",
    "K = 20                 # number of rolls available\n",
    "\n",
    "# Variables\n",
    "# Number of rolls of each type used\n",
    "model.x = pyo.Var(range(len(widths)), within=pyo.NonNegativeIntegers)\n",
    "\n",
    "# Objective: Minimize the number of rolls used\n",
    "model.obj = pyo.Objective(expr=sum(model.x[j] for j in range(len(widths))), sense=pyo.minimize)\n",
    "\n",
    "# Constraints\n",
    "# Demand constraints: ensure each width meets demand\n",
    "model.demands = pyo.ConstraintList()\n",
    "for i in range(len(widths)):\n",
    "    model.demands.add(model.x[i] >= demands[i])\n",
    "\n",
    "# Width constraint: total width used cannot exceed total available width in all rolls\n",
    "model.width_constraint = pyo.Constraint(expr=sum(model.x[j] * widths[j] for j in range(len(widths))) <= roll_width * K)\n",
    "\n",
    "\n",
    "solver = pyo.SolverFactory('gurobi')  \n",
    "result = solver.solve(model, tee=True)\n",
    "\n",
    "# Print the results\n",
    "output = {f\"Rolls of width {widths[j]}\": model.x[j].value for j in range(len(widths))}\n",
    "output[\"Objective (Min Rolls Used)\"] = pyo.value(model.obj)\n",
    "\n",
    "output\n"
   ]
  },
  {
   "cell_type": "code",
   "execution_count": null,
   "metadata": {},
   "outputs": [],
   "source": []
  }
 ],
 "metadata": {
  "kernelspec": {
   "display_name": "pyomo",
   "language": "python",
   "name": "python3"
  },
  "language_info": {
   "codemirror_mode": {
    "name": "ipython",
    "version": 3
   },
   "file_extension": ".py",
   "mimetype": "text/x-python",
   "name": "python",
   "nbconvert_exporter": "python",
   "pygments_lexer": "ipython3",
   "version": "3.11.8"
  }
 },
 "nbformat": 4,
 "nbformat_minor": 2
}
