{
 "cells": [
  {
   "cell_type": "code",
   "execution_count": null,
   "metadata": {},
   "outputs": [
    {
     "ename": "",
     "evalue": "",
     "output_type": "error",
     "traceback": [
      "\u001b[1;31mFailed to start the Kernel. \n",
      "\u001b[1;31mUnable to start Kernel 'ldsda (Python 3.11.8)' due to a connection timeout. \n",
      "\u001b[1;31mView Jupyter <a href='command:jupyter.viewOutput'>log</a> for further details."
     ]
    }
   ],
   "source": [
    "import pyomo.envrion as pyo"
   ]
  },
  {
   "cell_type": "code",
   "execution_count": null,
   "metadata": {},
   "outputs": [],
   "source": [
    "# Farmers Problem from HW10\n",
    "def build_stochastic_farmers():\n",
    "    m = pyo.ConcreteModel()\n",
    "    I = [1, 2, 3]  # Scenarios\n",
    "\n",
    "    # Decision variables\n",
    "    m.x1 = pyo.Var(within=pyo.NonNegativeReals)  # Acres of land for wheat\n",
    "    m.x2 = pyo.Var(within=pyo.NonNegativeReals)  # Acres of land for corn\n",
    "    m.x3 = pyo.Var(within=pyo.NonNegativeReals)  # Acres of land for sugar beets\n",
    "\n",
    "    m.y1 = pyo.Var(I, within=pyo.NonNegativeReals)  # Tons of wheat purchased\n",
    "    m.y2 = pyo.Var(I, within=pyo.NonNegativeReals)  # Tons of corn purchased\n",
    "\n",
    "    m.w1 = pyo.Var(I, within=pyo.NonNegativeReals)  # Tons of wheat sold\n",
    "    m.w2 = pyo.Var(I, within=pyo.NonNegativeReals)  # Tons of corn sold\n",
    "    m.w3 = pyo.Var(I, within=pyo.NonNegativeReals)  # Tons of sugar beets sold at a favorable price\n",
    "    m.w4 = pyo.Var(I, within=pyo.NonNegativeReals)  # Tons of sugar beets sold at a lower price\n",
    "\n",
    "    # Objective function\n",
    "    def obj_rule(m):\n",
    "        # Ensure that coefficients correctly reflect costs and revenues for each scenario\n",
    "        return sum([150*m.x1, 230*m.x2, 260*m.x3]) + sum([1/3 * (238*m.y1[i] - 170*m.w1[i] + 210*m.y2[i] - 150*m.w2[i] - 36*m.w3[i] - 10*m.w4[i]) for i in I])\n",
    "    \n",
    "    m.obj = pyo.Objective(rule=obj_rule, sense=pyo.minimize)\n",
    "\n",
    "    # Constraints\n",
    "    m.cons1 = pyo.Constraint(expr=m.x1 + m.x2 + m.x3 <= 500)  # Total land constraint\n",
    "\n",
    "    # Wheat production/purchase constraints for each scenario\n",
    "    m.cons21 = pyo.Constraint(expr=3 * m.x1 + m.y1[1] - m.w1[1] >= 200)\n",
    "    m.cons2 = pyo.Constraint(expr=2.5 * m.x1 + m.y1[2] - m.w1[2] >= 200)\n",
    "    m.cons22 = pyo.Constraint(expr=2 * m.x1 + m.y1[3] - m.w1[3] >= 200)\n",
    "\n",
    "    # Corn production/purchase constraints for each scenario\n",
    "    m.cons31 = pyo.Constraint(expr=3.6 * m.x2 + m.y2[1] - m.w2[1] >= 240)\n",
    "    m.cons3 = pyo.Constraint(expr=3 * m.x2 + m.y2[2] - m.w2[2] >= 240)\n",
    "    m.cons32 = pyo.Constraint(expr=2.4 * m.x2 + m.y2[3] - m.w2[3] >= 240)\n",
    "\n",
    "    # Sugar beets sale constraints for each scenario\n",
    "    m.cons41 = pyo.Constraint(expr=m.w3[1] + m.w4[1] <= 24 * m.x3)\n",
    "    m.cons4 = pyo.Constraint(expr=m.w3[2] + m.w4[2] <= 20 * m.x3)\n",
    "    m.cons42 = pyo.Constraint(expr=m.w3[3] + m.w4[3] <= 16 * m.x3)\n",
    "\n",
    "    m.cons5 = pyo.Constraint(I, rule=lambda m, i: m.w3[i] <= 6000)  # Sugar beets favorable price sale limit\n",
    "\n",
    "    return m\n",
    "\n",
    "m = build_stochastic_farmers()\n",
    "solver = pyo.SolverFactory('gurobi')\n",
    "solver.solve(m)\n",
    "\n",
    "# Print results\n",
    "print(\"Acres of land devoted to wheat: \", pyo.value(m.x1))\n",
    "print(\"Acres of land devoted to corn: \", pyo.value(m.x2))\n",
    "print(\"Acres of land devoted to sugar beets: \", pyo.value(m.x3))\n",
    "print(\"Tons of wheat to purchased: \", [pyo.value(m.y1[i]) for i in m.y1])\n",
    "print(\"Tons of corn to purchased: \", [pyo.value(m.y2[i]) for i in m.y2])\n",
    "print(\"Tons of wheat to sold: \", [pyo.value(m.w1[i]) for i in m.w1])\n",
    "print(\"Tons of corn to sold: \", [pyo.value(m.w2[i]) for i in m.w2])\n",
    "print(\"Tons of sugar beets to sold at a favorable price: \", [pyo.value(m.w3[i]) for i in m.w3])\n",
    "print(\"Tons of sugar beets to sold at a lower price: \", [pyo.value(m.w4[i]) for i in m.w4])\n",
    "print(\"Profit: \", -pyo.value(m.obj))"
   ]
  },
  {
   "cell_type": "code",
   "execution_count": null,
   "metadata": {},
   "outputs": [],
   "source": []
  }
 ],
 "metadata": {
  "kernelspec": {
   "display_name": "pyomo",
   "language": "python",
   "name": "python3"
  },
  "language_info": {
   "name": "python",
   "version": "3.11.8"
  }
 },
 "nbformat": 4,
 "nbformat_minor": 2
}
