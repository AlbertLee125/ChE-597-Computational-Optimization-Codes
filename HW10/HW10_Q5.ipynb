{
 "cells": [
  {
   "cell_type": "code",
   "execution_count": 6,
   "metadata": {},
   "outputs": [],
   "source": [
    "import pyomo.environ as pyo"
   ]
  },
  {
   "cell_type": "markdown",
   "metadata": {},
   "source": [
    "## Original Problem"
   ]
  },
  {
   "cell_type": "code",
   "execution_count": 7,
   "metadata": {},
   "outputs": [
    {
     "name": "stdout",
     "output_type": "stream",
     "text": [
      "Acres of land devoted to wheat:  170.0\n",
      "Acres of land devoted to corn:  80.0\n",
      "Acres of land devoted to sugar beets:  250.0\n",
      "Tons of wheat to purchased:  [0.0, 0.0, 0.0]\n",
      "Tons of corn to purchased:  [0.0, 0.0, 48.00000000000003]\n",
      "Tons of wheat to sold:  [310.0, 225.0, 140.0]\n",
      "Tons of corn to sold:  [48.0, 0.0, 0.0]\n",
      "Tons of sugar beets to sold at a favorable price:  [6000.0, 5000.0, 4000.0]\n",
      "Tons of sugar beets to sold at a lower price:  [0.0, 0.0, 0.0]\n",
      "Profit:  108390.0\n"
     ]
    }
   ],
   "source": [
    "# Problem 4\n",
    "def build_stochastic_farmers():\n",
    "    m = pyo.ConcreteModel()\n",
    "    I = [1, 2, 3]  # Scenarios\n",
    "\n",
    "    # Decision variables\n",
    "    m.x1 = pyo.Var(within=pyo.NonNegativeReals)  # Acres of land for wheat\n",
    "    m.x2 = pyo.Var(within=pyo.NonNegativeReals)  # Acres of land for corn\n",
    "    m.x3 = pyo.Var(within=pyo.NonNegativeReals)  # Acres of land for sugar beets\n",
    "\n",
    "    m.y1 = pyo.Var(I, within=pyo.NonNegativeReals)  # Tons of wheat purchased\n",
    "    m.y2 = pyo.Var(I, within=pyo.NonNegativeReals)  # Tons of corn purchased\n",
    "\n",
    "    m.w1 = pyo.Var(I, within=pyo.NonNegativeReals)  # Tons of wheat sold\n",
    "    m.w2 = pyo.Var(I, within=pyo.NonNegativeReals)  # Tons of corn sold\n",
    "    m.w3 = pyo.Var(I, within=pyo.NonNegativeReals)  # Tons of sugar beets sold at a favorable price\n",
    "    m.w4 = pyo.Var(I, within=pyo.NonNegativeReals)  # Tons of sugar beets sold at a lower price\n",
    "\n",
    "    # Objective function\n",
    "    def obj_rule(m):\n",
    "        # Ensure that coefficients correctly reflect costs and revenues for each scenario\n",
    "        return sum([150*m.x1, 230*m.x2, 260*m.x3]) + sum([1/3 * (238*m.y1[i] - 170*m.w1[i] + 210*m.y2[i] - 150*m.w2[i] - 36*m.w3[i] - 10*m.w4[i]) for i in I])\n",
    "    \n",
    "    m.obj = pyo.Objective(rule=obj_rule, sense=pyo.minimize)\n",
    "\n",
    "    # Constraints\n",
    "    m.cons1 = pyo.Constraint(expr=m.x1 + m.x2 + m.x3 <= 500)  # Total land constraint\n",
    "\n",
    "    # Wheat production/purchase constraints for each scenario\n",
    "    m.cons21 = pyo.Constraint(expr=3 * m.x1 + m.y1[1] - m.w1[1] >= 200)\n",
    "    m.cons2 = pyo.Constraint(expr=2.5 * m.x1 + m.y1[2] - m.w1[2] >= 200)\n",
    "    m.cons22 = pyo.Constraint(expr=2 * m.x1 + m.y1[3] - m.w1[3] >= 200)\n",
    "\n",
    "    # Corn production/purchase constraints for each scenario\n",
    "    m.cons31 = pyo.Constraint(expr=3.6 * m.x2 + m.y2[1] - m.w2[1] >= 240)\n",
    "    m.cons3 = pyo.Constraint(expr=3 * m.x2 + m.y2[2] - m.w2[2] >= 240)\n",
    "    m.cons32 = pyo.Constraint(expr=2.4 * m.x2 + m.y2[3] - m.w2[3] >= 240)\n",
    "\n",
    "    # Sugar beets sale constraints for each scenario\n",
    "    m.cons41 = pyo.Constraint(expr=m.w3[1] + m.w4[1] <= 24 * m.x3)\n",
    "    m.cons4 = pyo.Constraint(expr=m.w3[2] + m.w4[2] <= 20 * m.x3)\n",
    "    m.cons42 = pyo.Constraint(expr=m.w3[3] + m.w4[3] <= 16 * m.x3)\n",
    "\n",
    "    m.cons5 = pyo.Constraint(I, rule=lambda m, i: m.w3[i] <= 6000)  # Sugar beets favorable price sale limit\n",
    "\n",
    "    return m\n",
    "\n",
    "m = build_stochastic_farmers()\n",
    "solver = pyo.SolverFactory('gurobi')\n",
    "solver.solve(m)\n",
    "\n",
    "# Print results\n",
    "print(\"Acres of land devoted to wheat: \", pyo.value(m.x1))\n",
    "print(\"Acres of land devoted to corn: \", pyo.value(m.x2))\n",
    "print(\"Acres of land devoted to sugar beets: \", pyo.value(m.x3))\n",
    "print(\"Tons of wheat to purchased: \", [pyo.value(m.y1[i]) for i in m.y1])\n",
    "print(\"Tons of corn to purchased: \", [pyo.value(m.y2[i]) for i in m.y2])\n",
    "print(\"Tons of wheat to sold: \", [pyo.value(m.w1[i]) for i in m.w1])\n",
    "print(\"Tons of corn to sold: \", [pyo.value(m.w2[i]) for i in m.w2])\n",
    "print(\"Tons of sugar beets to sold at a favorable price: \", [pyo.value(m.w3[i]) for i in m.w3])\n",
    "print(\"Tons of sugar beets to sold at a lower price: \", [pyo.value(m.w4[i]) for i in m.w4])\n",
    "print(\"Profit: \", -pyo.value(m.obj))"
   ]
  },
  {
   "cell_type": "markdown",
   "metadata": {},
   "source": [
    "## Generalized Benders Decomposition Application"
   ]
  },
  {
   "cell_type": "code",
   "execution_count": 41,
   "metadata": {},
   "outputs": [],
   "source": [
    "# Problem 5\n",
    "def build_master_problem():\n",
    "    master = pyo.ConcreteModel()\n",
    "\n",
    "    # Decision variables for acres of land\n",
    "    master.x1 = pyo.Var(within=pyo.NonNegativeReals)\n",
    "    master.x2 = pyo.Var(within=pyo.NonNegativeReals)\n",
    "    master.x3 = pyo.Var(within=pyo.NonNegativeReals)\n",
    "\n",
    "    # Expected cost from subproblems\n",
    "    master.theta = pyo.Var(within=pyo.Reals, initialize=0)\n",
    "\n",
    "    # Total land constraint\n",
    "    master.total_land = pyo.Constraint(expr=master.x1 + master.x2 + master.x3 <= 500)\n",
    "\n",
    "    # Objective: Minimize the cost of land allocation plus the expected cost from subproblems\n",
    "    master.obj = pyo.Objective(expr=150*master.x1 + 230*master.x2 + 260*master.x3 + master.theta, sense=pyo.minimize)\n",
    "\n",
    "    master.benders_cuts = pyo.ConstraintList()\n",
    "    \n",
    "    return master\n",
    "\n",
    "master = build_master_problem()"
   ]
  },
  {
   "cell_type": "code",
   "execution_count": 42,
   "metadata": {},
   "outputs": [
    {
     "name": "stdout",
     "output_type": "stream",
     "text": [
      "Tons of wheat to purchased (Scenario 1):  0.0\n",
      "Tons of corn to purchased (Scenario 1):  0.0\n",
      "Tons of wheat to sold (Scenario 1):  160.0\n",
      "Tons of corn to sold (Scenario 1):  0.0\n",
      "Tons of sugar beets to sold at a favorable price (Scenario 1):  6000.0\n",
      "Tons of sugar beets to sold at a lower price (Scenario 1):  0.0\n",
      "Profit (Scenario 1):  243200.0\n",
      "dual : Direction=IMPORT, Datatype=FLOAT\n",
      "    Key                  : Value\n",
      "    cons_beets_favorable : -26.0\n",
      "        cons_beets_total : -10.0\n",
      "               cons_corn : 210.0\n",
      "              cons_wheat : 170.0\n"
     ]
    }
   ],
   "source": [
    "def build_subproblem(fixed_x1, fixed_x2, fixed_x3, scenario_index):\n",
    "    sub = pyo.ConcreteModel()\n",
    "\n",
    "    # Indices for the scenarios\n",
    "    I = [1, 2, 3]\n",
    "\n",
    "    # Decision variables for purchasing and selling\n",
    "    sub.y1 = pyo.Var(within=pyo.NonNegativeReals)  # Tons of wheat purchased\n",
    "    sub.y2 = pyo.Var(within=pyo.NonNegativeReals)  # Tons of corn purchased\n",
    "    sub.w1 = pyo.Var(within=pyo.NonNegativeReals)  # Tons of wheat sold\n",
    "    sub.w2 = pyo.Var(within=pyo.NonNegativeReals)  # Tons of corn sold\n",
    "    sub.w3 = pyo.Var(within=pyo.NonNegativeReals)  # Tons of sugar beets sold at a favorable price\n",
    "    sub.w4 = pyo.Var(within=pyo.NonNegativeReals)  # Tons of sugar beets sold at a lower price\n",
    "\n",
    "    # Constraints adapted from the original problem, now using fixed x values\n",
    "    sub.cons_wheat = pyo.Constraint(expr=3 * fixed_x1 + sub.y1 - sub.w1 >= 200)\n",
    "    sub.cons_corn = pyo.Constraint(expr=3 * fixed_x2 + sub.y2 - sub.w2 >= 240)\n",
    "    sub.cons_beets_favorable = pyo.Constraint(expr=sub.w3 <= 6000)\n",
    "    sub.cons_beets_total = pyo.Constraint(expr=sub.w3 + sub.w4 <= 20 * fixed_x3)\n",
    "\n",
    "    # Objective function for the subproblem, scenario-specific\n",
    "    sub.obj = pyo.Objective(expr=238*sub.y1 - 170*sub.w1 + 210*sub.y2 - 150*sub.w2 - 36*sub.w3 - 10*sub.w4, sense=pyo.minimize)\n",
    "\n",
    "    sub.dual = pyo.Suffix(direction=pyo.Suffix.IMPORT)\n",
    "\n",
    "    return sub\n",
    "\n",
    "# Example fixed values from a solved master problem or a specific scenario analysis\n",
    "fixed_x1 = 120\n",
    "fixed_x2 = 80\n",
    "fixed_x3 = 300\n",
    "\n",
    "# Build and solve the subproblem for a specific scenario\n",
    "subproblem_scenario_1 = build_subproblem(fixed_x1, fixed_x2, fixed_x3, scenario_index=1)\n",
    "sub_solver = pyo.SolverFactory('gurobi')  \n",
    "sub_solver.solve(subproblem_scenario_1)\n",
    "\n",
    "# Print subproblem results for scenario 1\n",
    "print(\"Tons of wheat to purchased (Scenario 1): \", pyo.value(subproblem_scenario_1.y1))\n",
    "print(\"Tons of corn to purchased (Scenario 1): \", pyo.value(subproblem_scenario_1.y2))\n",
    "print(\"Tons of wheat to sold (Scenario 1): \", pyo.value(subproblem_scenario_1.w1))\n",
    "print(\"Tons of corn to sold (Scenario 1): \", pyo.value(subproblem_scenario_1.w2))\n",
    "print(\"Tons of sugar beets to sold at a favorable price (Scenario 1): \", pyo.value(subproblem_scenario_1.w3))\n",
    "print(\"Tons of sugar beets to sold at a lower price (Scenario 1): \", pyo.value(subproblem_scenario_1.w4))\n",
    "print(\"Profit (Scenario 1): \", -pyo.value(subproblem_scenario_1.obj))\n",
    "subproblem_scenario_1.dual.pprint()"
   ]
  },
  {
   "cell_type": "code",
   "execution_count": 44,
   "metadata": {},
   "outputs": [
    {
     "name": "stdout",
     "output_type": "stream",
     "text": [
      "Acres of land devoted to wheat:  0.0\n",
      "Acres of land devoted to corn:  0.0\n",
      "Acres of land devoted to sugar beets:  0.0\n"
     ]
    }
   ],
   "source": [
    "def add_optimality_cut(master, scenario_profit, dual_values, fixed_values):\n",
    "    dual_wheat, dual_corn, dual_beets_fav, dual_beets_total = dual_values\n",
    "    fixed_x1, fixed_x2, fixed_x3 = fixed_values\n",
    "\n",
    "    # Construct the cut expression\n",
    "    cut_expr = (scenario_profit - \n",
    "                dual_wheat * (3 * fixed_x1 - 200) - \n",
    "                dual_corn * (3 * fixed_x2 - 240) + \n",
    "                dual_beets_fav * 6000 - \n",
    "                dual_beets_total * (20 * fixed_x3 - 6000))\n",
    "\n",
    "    # Add the cut to the master problem's Benders' cuts ConstraintList\n",
    "    master.benders_cuts.add(expr=master.theta >= cut_expr)\n",
    "\n",
    "dual_values = [\n",
    "    subproblem_scenario_1.dual[subproblem_scenario_1.cons_wheat], \n",
    "    subproblem_scenario_1.dual[subproblem_scenario_1.cons_corn], \n",
    "    subproblem_scenario_1.dual[subproblem_scenario_1.cons_beets_favorable],\n",
    "    subproblem_scenario_1.dual[subproblem_scenario_1.cons_beets_total]\n",
    "]\n",
    "\n",
    "fixed_values = [fixed_x1, fixed_x2, fixed_x3]\n",
    "scenario_profit = -pyo.value(subproblem_scenario_1.obj)  # Assuming profit is the negative of the objective value\n",
    "\n",
    "# Add the optimality cut to the master problem\n",
    "add_optimality_cut(master, scenario_profit, dual_values, fixed_values)\n",
    "\n",
    "solver.solve(master)\n",
    "print(\"Acres of land devoted to wheat: \", pyo.value(master.x1))\n",
    "print(\"Acres of land devoted to corn: \", pyo.value(master.x2))\n",
    "print(\"Acres of land devoted to sugar beets: \", pyo.value(master.x3))"
   ]
  },
  {
   "cell_type": "code",
   "execution_count": 45,
   "metadata": {},
   "outputs": [
    {
     "name": "stdout",
     "output_type": "stream",
     "text": [
      "Tons of wheat to purchased (Scenario 2):  200.0\n",
      "Tons of corn to purchased (Scenario 2):  240.0\n",
      "Tons of wheat to sold (Scenario 2):  0.0\n",
      "Tons of corn to sold (Scenario 2):  0.0\n",
      "Tons of sugar beets to sold at a favorable price (Scenario 2):  0.0\n",
      "Tons of sugar beets to sold at a lower price (Scenario 2):  0.0\n",
      "Profit (Scenario 2):  -98000.0\n",
      "dual : Direction=IMPORT, Datatype=FLOAT\n",
      "    Key                  : Value\n",
      "    cons_beets_favorable :   0.0\n",
      "        cons_beets_total : -36.0\n",
      "               cons_corn : 210.0\n",
      "              cons_wheat : 238.0\n"
     ]
    }
   ],
   "source": [
    "subproblem_scenario_2 = build_subproblem(0, 0, 0, scenario_index=2)\n",
    "\n",
    "sub_solver = pyo.SolverFactory('gurobi')  \n",
    "sub_solver.solve(subproblem_scenario_2)\n",
    "\n",
    "# Print subproblem results for scenario 2\n",
    "print(\"Tons of wheat to purchased (Scenario 2): \", pyo.value(subproblem_scenario_2.y1))\n",
    "print(\"Tons of corn to purchased (Scenario 2): \", pyo.value(subproblem_scenario_2.y2))\n",
    "print(\"Tons of wheat to sold (Scenario 2): \", pyo.value(subproblem_scenario_2.w1))\n",
    "print(\"Tons of corn to sold (Scenario 2): \", pyo.value(subproblem_scenario_2.w2))\n",
    "print(\"Tons of sugar beets to sold at a favorable price (Scenario 2): \", pyo.value(subproblem_scenario_2.w3))\n",
    "print(\"Tons of sugar beets to sold at a lower price (Scenario 2): \", pyo.value(subproblem_scenario_2.w4))\n",
    "print(\"Profit (Scenario 2): \", -pyo.value(subproblem_scenario_2.obj))\n",
    "subproblem_scenario_2.dual.pprint()"
   ]
  },
  {
   "cell_type": "code",
   "execution_count": 47,
   "metadata": {},
   "outputs": [
    {
     "name": "stdout",
     "output_type": "stream",
     "text": [
      "Acres of land devoted to wheat:  0.0\n",
      "Acres of land devoted to corn:  0.0\n",
      "Acres of land devoted to sugar beets:  0.0\n"
     ]
    }
   ],
   "source": [
    "def add_scenario_2_cut(master, scenario_profit, dual_wheat, dual_corn, dual_beets_fav, dual_beets_total, fixed_x1, fixed_x2, fixed_x3):\n",
    "    cut_expr = (scenario_profit - \n",
    "                dual_wheat * (3 * master.x1 - 200) - \n",
    "                dual_corn * (3 * master.x2 - 240) - \n",
    "                dual_beets_total * (20 * master.x3 - 6000))\n",
    "\n",
    "    master.benders_cuts.add(expr=master.theta >= cut_expr)\n",
    "\n",
    "# Scenario 2 profit and dual values\n",
    "scenario_2_profit = -98000  # Negative because it's a cost\n",
    "dual_values_scenario_2 = [238, 210, 0, -36]  # [dual_wheat, dual_corn, dual_beets_favorable, dual_beets_total]\n",
    "\n",
    "# Use the function to add the optimality cut for Scenario 2\n",
    "add_scenario_2_cut(master, scenario_2_profit, *dual_values_scenario_2, fixed_x1, fixed_x2, fixed_x3)\n",
    "\n",
    "# Solve the master problem again to find new values for x1, x2, x3\n",
    "solver.solve(master)\n",
    "print(\"Acres of land devoted to wheat: \", pyo.value(master.x1))\n",
    "print(\"Acres of land devoted to corn: \", pyo.value(master.x2))\n",
    "print(\"Acres of land devoted to sugar beets: \", pyo.value(master.x3))"
   ]
  }
 ],
 "metadata": {
  "kernelspec": {
   "display_name": "pyomo",
   "language": "python",
   "name": "python3"
  },
  "language_info": {
   "codemirror_mode": {
    "name": "ipython",
    "version": 3
   },
   "file_extension": ".py",
   "mimetype": "text/x-python",
   "name": "python",
   "nbconvert_exporter": "python",
   "pygments_lexer": "ipython3",
   "version": "3.11.8"
  }
 },
 "nbformat": 4,
 "nbformat_minor": 2
}
