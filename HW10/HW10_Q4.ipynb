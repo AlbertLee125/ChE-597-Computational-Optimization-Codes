{
 "cells": [
  {
   "cell_type": "markdown",
   "metadata": {},
   "source": [
    "## Farmers Problems\n",
    "Birge, J. R., Louveaux, F., Birge, J. R., & Louveaux, F. (2011). Introduction and examples. Introduction to Stochastic Programming, 3-54."
   ]
  },
  {
   "cell_type": "code",
   "execution_count": 2,
   "metadata": {},
   "outputs": [],
   "source": [
    "import pyomo.environ as pyo"
   ]
  },
  {
   "cell_type": "code",
   "execution_count": 3,
   "metadata": {},
   "outputs": [
    {
     "name": "stdout",
     "output_type": "stream",
     "text": [
      "Acres of land devoted to wheat:  120.0\n",
      "Acres of land devoted to corn:  80.0\n",
      "Acres of land devoted to sugar beets:  300.0\n",
      "Tons of wheat to purchased:  0.0\n",
      "Tons of corn to purchased:  0.0\n",
      "Tons of wheat to sold:  100.0\n",
      "Tons of corn to sold:  0.0\n",
      "Tons of sugar beets to sold at a favorable price:  6000.0\n",
      "Tons of sugar beets to sold at a lower price:  0.0\n"
     ]
    }
   ],
   "source": [
    "def build_farmers():\n",
    "    m = pyo.ConcreteModel()\n",
    "\n",
    "    m.x1 = pyo.Var(within=pyo.NonNegativeReals) # acres of land devoted to wheat\n",
    "    m.x2 = pyo.Var(within=pyo.NonNegativeReals) # acres of land devoted to corn\n",
    "    m.x3 = pyo.Var(within=pyo.NonNegativeReals) # acres of land devoted to sugar beets\n",
    "\n",
    "    m.y1 = pyo.Var(within=pyo.NonNegativeReals) # tons of wheat to purchased\n",
    "    m.y2 = pyo.Var(within=pyo.NonNegativeReals) # tons of corn to purchased\n",
    "\n",
    "    m.w1 = pyo.Var(within=pyo.NonNegativeReals) # tons of wheat to sold\n",
    "    m.w2 = pyo.Var(within=pyo.NonNegativeReals) # tons of corn to sold\n",
    "    m.w3 = pyo.Var(within=pyo.NonNegativeReals) # tons of sugar beets to sold at a favorable price\n",
    "    m.w4 = pyo.Var(within=pyo.NonNegativeReals) # tons of sugar beets to sold at a lower price\n",
    "\n",
    "    def obj_rule(m):\n",
    "        return 150*m.x1 + 230*m.x2 + 260*m.x3 + 238*m.y1 - 170*m.w1 + 210*m.y2 - 150*m.w2 - 36*m.w3 - 10*m.w4\n",
    "    \n",
    "    m.obj = pyo.Objective(rule=obj_rule, sense=pyo.minimize)\n",
    "\n",
    "    def cons1_rule(m):\n",
    "        return m.x1 + m.x2 + m.x3 <= 500\n",
    "    \n",
    "    m.cons1 = pyo.Constraint(rule=cons1_rule)\n",
    "\n",
    "    def cons2_rule(m):\n",
    "        return 2.5 * m.x1 + m.y1 - m.w1 >= 200\n",
    "    \n",
    "    m.cons2 = pyo.Constraint(rule=cons2_rule)\n",
    "\n",
    "    def cons3_rule(m):\n",
    "        return 3 * m.x2 + m.y2 - m.w2 >= 240\n",
    "    \n",
    "    m.cons3 = pyo.Constraint(rule=cons3_rule)\n",
    "\n",
    "    def cons4_rule(m):\n",
    "        return m.w3 + m.w4 <= 20 * m.x3\n",
    "    \n",
    "    m.cons4 = pyo.Constraint(rule=cons4_rule)\n",
    "\n",
    "    def cons5_rule(m):\n",
    "        return m.w3 <= 6000\n",
    "    \n",
    "    m.cons5 = pyo.Constraint(rule=cons5_rule)\n",
    "\n",
    "    return m\n",
    "\n",
    "m = build_farmers()\n",
    "solver = pyo.SolverFactory('gurobi')\n",
    "solver.solve(m)\n",
    "\n",
    "print(\"Acres of land devoted to wheat: \", pyo.value(m.x1))\n",
    "print(\"Acres of land devoted to corn: \", pyo.value(m.x2))\n",
    "print(\"Acres of land devoted to sugar beets: \", pyo.value(m.x3))\n",
    "print(\"Tons of wheat to purchased: \", pyo.value(m.y1))\n",
    "print(\"Tons of corn to purchased: \", pyo.value(m.y2))\n",
    "print(\"Tons of wheat to sold: \", pyo.value(m.w1))\n",
    "print(\"Tons of corn to sold: \", pyo.value(m.w2))\n",
    "print(\"Tons of sugar beets to sold at a favorable price: \", pyo.value(m.w3))\n",
    "print(\"Tons of sugar beets to sold at a lower price: \", pyo.value(m.w4))"
   ]
  }
 ],
 "metadata": {
  "kernelspec": {
   "display_name": "pyomo",
   "language": "python",
   "name": "python3"
  },
  "language_info": {
   "codemirror_mode": {
    "name": "ipython",
    "version": 3
   },
   "file_extension": ".py",
   "mimetype": "text/x-python",
   "name": "python",
   "nbconvert_exporter": "python",
   "pygments_lexer": "ipython3",
   "version": "3.11.8"
  }
 },
 "nbformat": 4,
 "nbformat_minor": 2
}
